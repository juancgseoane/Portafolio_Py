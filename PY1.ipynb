{
  "nbformat": 4,
  "nbformat_minor": 0,
  "metadata": {
    "colab": {
      "provenance": []
    },
    "kernelspec": {
      "name": "python3",
      "display_name": "Python 3"
    },
    "language_info": {
      "name": "python"
    }
  },
  "cells": [
    {
      "cell_type": "code",
      "execution_count": null,
      "metadata": {
        "id": "eKhGWp9lituH"
      },
      "outputs": [],
      "source": [
        "# Desafío - Tipos y Estructuras de Datos (Parte I)"
      ]
    },
    {
      "cell_type": "code",
      "source": [
        "# 1. Usando la siguiente lista:\n",
        "\n",
        "lista = [\"manzana\", \"pera\", \"naranja\", \"plátano\", \"kiwi\", \"uva\", \"piña\",\n",
        "\"mango\", \"sandía\", \"melón\"]"
      ],
      "metadata": {
        "id": "okkGArvrjW24"
      },
      "execution_count": 19,
      "outputs": []
    },
    {
      "cell_type": "code",
      "source": [
        "# a. Imprime el quinto elemento de la lista.\n",
        "\n",
        "print(lista[4])"
      ],
      "metadata": {
        "colab": {
          "base_uri": "https://localhost:8080/"
        },
        "id": "pNL2t7M1jdf5",
        "outputId": "7237aed4-1ed3-4576-ea53-788b33334c6e"
      },
      "execution_count": 20,
      "outputs": [
        {
          "output_type": "stream",
          "name": "stdout",
          "text": [
            "kiwi\n"
          ]
        }
      ]
    },
    {
      "cell_type": "code",
      "source": [
        "# b. Imprime del cuarto al sexto inclusive.\n",
        "\n",
        "print(lista[3:6])"
      ],
      "metadata": {
        "colab": {
          "base_uri": "https://localhost:8080/"
        },
        "id": "5xRvlLZjjyIF",
        "outputId": "c230c408-8fa5-4fec-c87e-c1cccba6404f"
      },
      "execution_count": 21,
      "outputs": [
        {
          "output_type": "stream",
          "name": "stdout",
          "text": [
            "['plátano', 'kiwi', 'uva']\n"
          ]
        }
      ]
    },
    {
      "cell_type": "code",
      "source": [
        "# c. Elimina el elemento en la posición 3\n",
        "\n",
        "lista.pop(2)\n",
        "print(lista)"
      ],
      "metadata": {
        "colab": {
          "base_uri": "https://localhost:8080/"
        },
        "id": "wABM4e5UkHGD",
        "outputId": "b730fa34-f593-4e6f-e549-35074857dfcd"
      },
      "execution_count": 22,
      "outputs": [
        {
          "output_type": "stream",
          "name": "stdout",
          "text": [
            "['manzana', 'pera', 'plátano', 'kiwi', 'uva', 'piña', 'mango', 'sandía', 'melón']\n"
          ]
        }
      ]
    },
    {
      "cell_type": "code",
      "source": [
        "# d. Agrega dos nuevos elementos a la lista\n",
        "\n",
        "lista.append(\"mora\")\n",
        "lista.append(\"maracuya\")\n",
        "print(lista)"
      ],
      "metadata": {
        "colab": {
          "base_uri": "https://localhost:8080/"
        },
        "id": "yrAD4hfEkX3F",
        "outputId": "14f24135-8960-406a-aafb-6d7c1311d13b"
      },
      "execution_count": 23,
      "outputs": [
        {
          "output_type": "stream",
          "name": "stdout",
          "text": [
            "['manzana', 'pera', 'plátano', 'kiwi', 'uva', 'piña', 'mango', 'sandía', 'melón', 'mora', 'maracuya']\n"
          ]
        }
      ]
    },
    {
      "cell_type": "code",
      "source": [
        "# e. Ordena la lista alfabéticamente.\n",
        "\n",
        "lista.sort()\n",
        "print(lista)"
      ],
      "metadata": {
        "colab": {
          "base_uri": "https://localhost:8080/"
        },
        "id": "zJqmDYD0lA_a",
        "outputId": "d815c410-d75f-44be-acbc-0826f10b1f25"
      },
      "execution_count": 25,
      "outputs": [
        {
          "output_type": "stream",
          "name": "stdout",
          "text": [
            "['kiwi', 'mango', 'manzana', 'maracuya', 'melón', 'mora', 'pera', 'piña', 'plátano', 'sandía', 'uva']\n"
          ]
        }
      ]
    },
    {
      "cell_type": "code",
      "source": [
        "# f. Genera un diccionario usando lista1 como llaves y lista como valores.\n",
        "\n",
        "lista1 = [\"uno\", \"dos\", \"tres\", \"cuatro\", \"cinco\", \"seis\", \"siete\",\n",
        "\"ocho\", \"nueve\", \"diez\"]\n",
        "\n",
        "diccionario = dict(zip(lista1, lista))\n",
        "print(diccionario)"
      ],
      "metadata": {
        "colab": {
          "base_uri": "https://localhost:8080/"
        },
        "id": "u8iO9Fltl49g",
        "outputId": "c1575a45-699b-4647-ea5b-a4052c225a2f"
      },
      "execution_count": 28,
      "outputs": [
        {
          "output_type": "stream",
          "name": "stdout",
          "text": [
            "{'uno': 'kiwi', 'dos': 'mango', 'tres': 'manzana', 'cuatro': 'maracuya', 'cinco': 'melón', 'seis': 'mora', 'siete': 'pera', 'ocho': 'piña', 'nueve': 'plátano', 'diez': 'sandía'}\n"
          ]
        }
      ]
    },
    {
      "cell_type": "code",
      "source": [
        "# 2. Fabricación de cerveza artesanal"
      ],
      "metadata": {
        "id": "2PdyribHmY2b"
      },
      "execution_count": 29,
      "outputs": []
    },
    {
      "cell_type": "code",
      "source": [
        "# Importa la librería NumPy.\n",
        "\n",
        "import numpy as np"
      ],
      "metadata": {
        "id": "GJviFeximgro"
      },
      "execution_count": 30,
      "outputs": []
    },
    {
      "cell_type": "code",
      "source": [
        "# Carga los datos del archivo csv en una variable llamada array, usando np.loadtxt(“alcohol_cerveza.csv”) y modifica los parámetros necesarios para leer bien el archivo.\n",
        "\n",
        "array = np.loadtxt(\"alcohol_cerveza.csv\", delimiter=\",\", skiprows=1)\n",
        "print(array)"
      ],
      "metadata": {
        "id": "3zHRIgPGnSLk"
      },
      "execution_count": null,
      "outputs": []
    },
    {
      "cell_type": "code",
      "source": [
        "# Calcula la media de los datos utilizando la función mean de NumPy y almacena el resultado en una variable llamada media\n",
        "\n",
        "media = np.mean(array)\n",
        "print(media)"
      ],
      "metadata": {
        "colab": {
          "base_uri": "https://localhost:8080/"
        },
        "id": "fLlhjPNon0-H",
        "outputId": "48f1b6ca-b572-482b-aa5c-4c2388783a58"
      },
      "execution_count": 36,
      "outputs": [
        {
          "output_type": "stream",
          "name": "stdout",
          "text": [
            "5.01034\n"
          ]
        }
      ]
    },
    {
      "cell_type": "code",
      "source": [
        "# Calcula la desviación estándar de los datos utilizando la función std de NumPy y almacena el resultado en una variable llamada desviacion.\n",
        "\n",
        "desviacion = np.std(array)\n",
        "print(desviacion)"
      ],
      "metadata": {
        "colab": {
          "base_uri": "https://localhost:8080/"
        },
        "id": "12-43loLoF7h",
        "outputId": "74f4ad74-061c-40ec-ad80-88bf840449c4"
      },
      "execution_count": 38,
      "outputs": [
        {
          "output_type": "stream",
          "name": "stdout",
          "text": [
            "0.31158992987579043\n"
          ]
        }
      ]
    },
    {
      "cell_type": "code",
      "source": [
        "# Calcula el límite inferior de control (LIC) utilizando la fórmula: media - (3 * desviacion) y almacena el resultado en una variable llamada lic.\n",
        "\n",
        "lic = media - (3 * desviacion)\n",
        "print(lic)"
      ],
      "metadata": {
        "colab": {
          "base_uri": "https://localhost:8080/"
        },
        "id": "T5VZ2_JJoMdT",
        "outputId": "7be8d879-2ab5-4ad1-f6ca-752a62423b31"
      },
      "execution_count": 40,
      "outputs": [
        {
          "output_type": "stream",
          "name": "stdout",
          "text": [
            "4.075570210372629\n"
          ]
        }
      ]
    },
    {
      "cell_type": "code",
      "source": [
        "# Calcula el límite superior de control (LSC) utilizando la fórmula: media + (3 *desviacion) y almacena el resultado en una variable llamada lsc.\n",
        "\n",
        "lsc = media + (3 * desviacion)\n",
        "print(lsc)"
      ],
      "metadata": {
        "colab": {
          "base_uri": "https://localhost:8080/"
        },
        "id": "KXivfoE3oUua",
        "outputId": "89f7d760-a208-4c70-fc90-d23d334ac7cd"
      },
      "execution_count": 42,
      "outputs": [
        {
          "output_type": "stream",
          "name": "stdout",
          "text": [
            "5.945109789627372\n"
          ]
        }
      ]
    },
    {
      "cell_type": "code",
      "source": [
        "# Imprime los resultados de la media, la desviación estándar, el LIC y el LSC.\n",
        "\n",
        "print(\"Media:\", media)\n",
        "print(\"Desviación estándar:\", desviacion)\n",
        "print(\"LIC:\", lic)\n",
        "print(\"LSC:\", lsc)"
      ],
      "metadata": {
        "colab": {
          "base_uri": "https://localhost:8080/"
        },
        "id": "f8nvuIcRoeVs",
        "outputId": "a737c298-1792-4f06-d57d-8a413c2f207f"
      },
      "execution_count": 44,
      "outputs": [
        {
          "output_type": "stream",
          "name": "stdout",
          "text": [
            "Media: 5.01034\n",
            "Desviación estándar: 0.31158992987579043\n",
            "LIC: 4.075570210372629\n",
            "LSC: 5.945109789627372\n"
          ]
        }
      ]
    },
    {
      "cell_type": "code",
      "source": [
        "# Filtra el array utilizando np.logical_or(condicion1, condicion2) para obtener los valores fuera de los límites de control.\n",
        "\n",
        "outliers = array[np.logical_or(array < lic, array > lsc)]\n",
        "print(outliers)"
      ],
      "metadata": {
        "colab": {
          "base_uri": "https://localhost:8080/"
        },
        "id": "kOuPiEjOoi4c",
        "outputId": "68032d5f-7cf0-4052-c1b2-ab36e97b6b78"
      },
      "execution_count": 45,
      "outputs": [
        {
          "output_type": "stream",
          "name": "stdout",
          "text": [
            "[3.87 6.02]\n"
          ]
        }
      ]
    }
  ]
}